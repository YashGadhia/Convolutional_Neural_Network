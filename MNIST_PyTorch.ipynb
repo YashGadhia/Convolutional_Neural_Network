{
  "nbformat": 4,
  "nbformat_minor": 0,
  "metadata": {
    "colab": {
      "name": "MNIST_PyTorch.ipynb",
      "provenance": [],
      "collapsed_sections": [],
      "machine_shape": "hm",
      "authorship_tag": "ABX9TyNf0PtBzKuQ7BZMCyvbmKR/",
      "include_colab_link": true
    },
    "kernelspec": {
      "name": "python3",
      "display_name": "Python 3"
    },
    "accelerator": "GPU"
  },
  "cells": [
    {
      "cell_type": "markdown",
      "metadata": {
        "id": "view-in-github",
        "colab_type": "text"
      },
      "source": [
        "<a href=\"https://colab.research.google.com/github/YashGadhia/Convolutional_Neural_Network/blob/master/MNIST_PyTorch.ipynb\" target=\"_parent\"><img src=\"https://colab.research.google.com/assets/colab-badge.svg\" alt=\"Open In Colab\"/></a>"
      ]
    },
    {
      "cell_type": "code",
      "metadata": {
        "id": "taiZNk4YyNIb",
        "colab_type": "code",
        "outputId": "4c6fd93d-e944-4a12-e496-613e84ec186a",
        "colab": {
          "base_uri": "https://localhost:8080/",
          "height": 35
        }
      },
      "source": [
        "import sys\n",
        "import pandas as pd\n",
        "import numpy as np\n",
        "import matplotlib.pyplot as plt\n",
        "import torch\n",
        "import torch.nn as nn\n",
        "import torch.nn.functional as F\n",
        "from torch import optim\n",
        "from torch.utils.data import TensorDataset, DataLoader, Dataset\n",
        "from torchvision import datasets, transforms\n",
        "from skimage.transform import rotate\n",
        "from sklearn.model_selection import train_test_split\n",
        "from sklearn.metrics import accuracy_score\n",
        "from google.colab import drive \n",
        "drive.mount('/content/drive')"
      ],
      "execution_count": 0,
      "outputs": [
        {
          "output_type": "stream",
          "text": [
            "Drive already mounted at /content/drive; to attempt to forcibly remount, call drive.mount(\"/content/drive\", force_remount=True).\n"
          ],
          "name": "stdout"
        }
      ]
    },
    {
      "cell_type": "code",
      "metadata": {
        "id": "I63gsJjL10dK",
        "colab_type": "code",
        "outputId": "ebf362f3-a6a2-436c-d6f8-1f09ae29cd25",
        "colab": {
          "base_uri": "https://localhost:8080/",
          "height": 70
        }
      },
      "source": [
        "print(sys.version)\n",
        "device='cuda'\n",
        "\n",
        "train_on_gpu = torch.cuda.is_available()\n",
        "\n",
        "if not train_on_gpu:\n",
        "    print('CUDA is not available.  Training on CPU ...')\n",
        "else:\n",
        "    print('CUDA is available!  Training on GPU ...')"
      ],
      "execution_count": 0,
      "outputs": [
        {
          "output_type": "stream",
          "text": [
            "3.6.9 (default, Nov  7 2019, 10:44:02) \n",
            "[GCC 8.3.0]\n",
            "CUDA is available!  Training on GPU ...\n"
          ],
          "name": "stdout"
        }
      ]
    },
    {
      "cell_type": "code",
      "metadata": {
        "id": "9v2Tj4V3G3wL",
        "colab_type": "code",
        "outputId": "e5873c2f-5a11-47cc-b630-eba489bad37d",
        "colab": {
          "base_uri": "https://localhost:8080/",
          "height": 70
        }
      },
      "source": [
        "df=pd.read_csv(\"/content/drive/My Drive/Colab Notebooks/MNIST/train.csv\")\n",
        "#train=torch.from_numpy(df.values)\n",
        "train=df.values\n",
        "x_train=(train[:,1:]).astype(np.float32)#.to(device)\n",
        "y_train=(train[:,0])#.to(device)\n",
        "\n",
        "df_test=pd.read_csv(\"/content/drive/My Drive/Colab Notebooks/MNIST/test.csv\")\n",
        "x_test=df_test.values.astype(np.float32)\n",
        "\n",
        "del df,train,df_test\n",
        "\n",
        "print(x_train.shape)\n",
        "print(y_train.shape)\n",
        "print(x_test.shape)"
      ],
      "execution_count": 0,
      "outputs": [
        {
          "output_type": "stream",
          "text": [
            "(42000, 784)\n",
            "(42000,)\n",
            "(28000, 784)\n"
          ],
          "name": "stdout"
        }
      ]
    },
    {
      "cell_type": "code",
      "metadata": {
        "id": "j2eqQj_GY3IK",
        "colab_type": "code",
        "outputId": "ece2ae01-fdc0-42a6-dcf3-c7224a7742c3",
        "colab": {
          "base_uri": "https://localhost:8080/",
          "height": 106
        }
      },
      "source": [
        "random_seed = 1\n",
        "x_train, x_cv, y_train, y_cv = train_test_split(x_train, y_train, test_size = 7000, random_state = random_seed)\n",
        "\n",
        "print(x_train.shape)\n",
        "print(x_train.dtype)\n",
        "print(x_cv.shape)\n",
        "print(y_train.shape)\n",
        "print(y_cv.shape)"
      ],
      "execution_count": 0,
      "outputs": [
        {
          "output_type": "stream",
          "text": [
            "(35000, 784)\n",
            "float32\n",
            "(7000, 784)\n",
            "(35000,)\n",
            "(7000,)\n"
          ],
          "name": "stdout"
        }
      ]
    },
    {
      "cell_type": "code",
      "metadata": {
        "id": "tkYvRrZscISd",
        "colab_type": "code",
        "outputId": "dd02ad7a-1820-4964-ea19-2175164e3fdc",
        "colab": {
          "base_uri": "https://localhost:8080/",
          "height": 52
        }
      },
      "source": [
        "X_train = []\n",
        "Y_train = []\n",
        "np.random.seed(1)\n",
        "rot_angle = 40*np.random.random_sample([x_train.shape[0],4])\n",
        "for i in range(x_train.shape[0]):\n",
        "    X_train.append(x_train[i])\n",
        "    for j in range(4):\n",
        "      X_train.append(rotate(x_train[i].reshape((28,28)),angle=rot_angle[i,j],mode='wrap').reshape((784))) \n",
        "    for j in range(5):\n",
        "      Y_train.append(y_train[i])\n",
        "\n",
        "X_train = np.asarray(X_train,dtype=np.float32)\n",
        "Y_train = np.asarray(Y_train)\n",
        "print(X_train.shape)\n",
        "print(Y_train.shape)\n",
        "\n",
        "del x_train,y_train"
      ],
      "execution_count": 0,
      "outputs": [
        {
          "output_type": "stream",
          "text": [
            "(175000, 784)\n",
            "(175000,)\n"
          ],
          "name": "stdout"
        }
      ]
    },
    {
      "cell_type": "code",
      "metadata": {
        "id": "SO7YZqTvOl2U",
        "colab_type": "code",
        "outputId": "2ecd1172-37d5-4519-c142-2199f87128a1",
        "colab": {
          "base_uri": "https://localhost:8080/",
          "height": 301
        }
      },
      "source": [
        "index = 5\n",
        "print(Y_train[index])\n",
        "plt.imshow(X_train[index].reshape((28,28)), cmap='gray')"
      ],
      "execution_count": 0,
      "outputs": [
        {
          "output_type": "stream",
          "text": [
            "7\n"
          ],
          "name": "stdout"
        },
        {
          "output_type": "execute_result",
          "data": {
            "text/plain": [
              "<matplotlib.image.AxesImage at 0x7f86d596b6d8>"
            ]
          },
          "metadata": {
            "tags": []
          },
          "execution_count": 38
        },
        {
          "output_type": "display_data",
          "data": {
            "image/png": "[encoded data removed]",
            "text/plain": [
              "<Figure size 432x288 with 1 Axes>"
            ]
          },
          "metadata": {
            "tags": [],
            "needs_background": "light"
          }
        }
      ]
    },
    {
      "cell_type": "code",
      "metadata": {
        "id": "97X-rzeYlejw",
        "colab_type": "code",
        "outputId": "4ab3819a-215d-4f9a-deb3-518df88b8bdc",
        "colab": {
          "base_uri": "https://localhost:8080/",
          "height": 301
        }
      },
      "source": [
        "print(Y_train[index+1])\n",
        "plt.imshow(X_train[index+1].reshape((28,28)), cmap='gray')"
      ],
      "execution_count": 0,
      "outputs": [
        {
          "output_type": "stream",
          "text": [
            "7\n"
          ],
          "name": "stdout"
        },
        {
          "output_type": "execute_result",
          "data": {
            "text/plain": [
              "<matplotlib.image.AxesImage at 0x7f86d25d8048>"
            ]
          },
          "metadata": {
            "tags": []
          },
          "execution_count": 39
        },
        {
          "output_type": "display_data",
          "data": {
            "image/png": "[encoded data removed]",
            "text/plain": [
              "<Figure size 432x288 with 1 Axes>"
            ]
          },
          "metadata": {
            "tags": [],
            "needs_background": "light"
          }
        }
      ]
    },
    {
      "cell_type": "code",
      "metadata": {
        "id": "wX-hU2OOli1L",
        "colab_type": "code",
        "outputId": "af947cd5-02f5-4654-f14e-06512c8b9e7c",
        "colab": {
          "base_uri": "https://localhost:8080/",
          "height": 88
        }
      },
      "source": [
        "X_train = X_train/255.0\n",
        "x_cv = x_cv/255.0\n",
        "final_Xtrain = torch.from_numpy(X_train.reshape(-1,1,28,28)).to(device)\n",
        "final_Ytrain = torch.from_numpy(Y_train.squeeze()).to(device)\n",
        "\n",
        "final_Xcv = torch.from_numpy(x_cv.reshape(-1,1,28,28)).to(device)\n",
        "final_Ycv = torch.from_numpy(y_cv.squeeze()).to(device)\n",
        "\n",
        "print(final_Xtrain.size())\n",
        "print(final_Ytrain.size())\n",
        "print(final_Xcv.size())\n",
        "print(final_Ycv.size())"
      ],
      "execution_count": 0,
      "outputs": [
        {
          "output_type": "stream",
          "text": [
            "torch.Size([175000, 1, 28, 28])\n",
            "torch.Size([175000])\n",
            "torch.Size([7000, 1, 28, 28])\n",
            "torch.Size([7000])\n"
          ],
          "name": "stdout"
        }
      ]
    },
    {
      "cell_type": "code",
      "metadata": {
        "id": "vLn7r4xzouC8",
        "colab_type": "code",
        "colab": {}
      },
      "source": [
        "train_ds = TensorDataset(final_Xtrain,final_Ytrain)\n",
        "cv_ds = TensorDataset(final_Xcv,final_Ycv)\n",
        "\n",
        "train_dl = DataLoader(train_ds,batch_size=64,shuffle=True)\n",
        "cv_dl = DataLoader(cv_ds,batch_size=64,shuffle=True)"
      ],
      "execution_count": 0,
      "outputs": []
    },
    {
      "cell_type": "code",
      "metadata": {
        "id": "RmCIV-nxp3-N",
        "colab_type": "code",
        "outputId": "173d7401-50eb-4d34-dfa1-d350a48f3221",
        "colab": {
          "base_uri": "https://localhost:8080/",
          "height": 355
        }
      },
      "source": [
        "class MNIST_CNN(nn.Module):\n",
        "  def __init__(self):\n",
        "    super(MNIST_CNN,self).__init__()\n",
        "    self.layer1 = nn.Sequential(\n",
        "            nn.Conv2d(1, 32, kernel_size=5, stride=1, padding=2),\n",
        "            nn.ReLU(),\n",
        "            nn.BatchNorm2d(32),\n",
        "            nn.MaxPool2d(2,2))\n",
        "    self.layer2 = nn.Sequential(\n",
        "            nn.Conv2d(32, 64, kernel_size=5, stride=1, padding=2),\n",
        "            nn.ReLU(),\n",
        "            nn.BatchNorm2d(64),\n",
        "            nn.MaxPool2d(2,2))\n",
        "    self.drop1 = nn.Dropout2d(0.4)\n",
        "    self.lin1 = nn.Linear(7*7*64,128)\n",
        "    self.norm = nn.BatchNorm1d(128)\n",
        "    self.drop2 = nn.Dropout(0.4)\n",
        "    self.lin2 = nn.Linear(128,10)\n",
        "\n",
        "\n",
        "\n",
        "  def forward(self,xb):\n",
        "    xb=xb.view(-1,1,28,28)\n",
        "    xb = self.layer1(xb)\n",
        "    xb = self.layer2(xb)\n",
        "    xb = self.drop1(xb)\n",
        "    xb = torch.flatten(xb,1,3)\n",
        "    xb = F.relu(self.lin1(xb))\n",
        "    xb = self.norm(xb)\n",
        "    xb = self.drop2(xb)\n",
        "    xb = self.lin2(xb)\n",
        "    return xb\n",
        "\n",
        "model = MNIST_CNN()\n",
        "model.float()\n",
        "model.to(device)      "
      ],
      "execution_count": 0,
      "outputs": [
        {
          "output_type": "execute_result",
          "data": {
            "text/plain": [
              "MNIST_CNN(\n",
              "  (layer1): Sequential(\n",
              "    (0): Conv2d(1, 32, kernel_size=(5, 5), stride=(1, 1), padding=(2, 2))\n",
              "    (1): ReLU()\n",
              "    (2): BatchNorm2d(32, eps=1e-05, momentum=0.1, affine=True, track_running_stats=True)\n",
              "    (3): MaxPool2d(kernel_size=2, stride=2, padding=0, dilation=1, ceil_mode=False)\n",
              "  )\n",
              "  (layer2): Sequential(\n",
              "    (0): Conv2d(32, 64, kernel_size=(5, 5), stride=(1, 1), padding=(2, 2))\n",
              "    (1): ReLU()\n",
              "    (2): BatchNorm2d(64, eps=1e-05, momentum=0.1, affine=True, track_running_stats=True)\n",
              "    (3): MaxPool2d(kernel_size=2, stride=2, padding=0, dilation=1, ceil_mode=False)\n",
              "  )\n",
              "  (drop1): Dropout2d(p=0.4, inplace=False)\n",
              "  (lin1): Linear(in_features=3136, out_features=128, bias=True)\n",
              "  (norm): BatchNorm1d(128, eps=1e-05, momentum=0.1, affine=True, track_running_stats=True)\n",
              "  (drop2): Dropout(p=0.4, inplace=False)\n",
              "  (lin2): Linear(in_features=128, out_features=10, bias=True)\n",
              ")"
            ]
          },
          "metadata": {
            "tags": []
          },
          "execution_count": 42
        }
      ]
    },
    {
      "cell_type": "code",
      "metadata": {
        "id": "EyxJ5FPFZWcM",
        "colab_type": "code",
        "outputId": "9706b6c3-e7e6-485e-9575-33f14eee4075",
        "colab": {
          "base_uri": "https://localhost:8080/",
          "height": 1000
        }
      },
      "source": [
        "criterion = nn.CrossEntropyLoss()\n",
        "optimizer = optim.Adam(model.parameters(),lr=0.001)\n",
        "lr_scheduler = torch.optim.lr_scheduler.ReduceLROnPlateau(optimizer, patience=1, verbose=True, eps=1e-09)\n",
        "\n",
        "epochs = 75\n",
        "costs = []\n",
        "\n",
        "for epoch in range(epochs):\n",
        "  total_loss = 0\n",
        "  train_acc = 0\n",
        "  model.train()\n",
        "  for (x,y) in train_dl:\n",
        "    x.to(device)\n",
        "    y.to(device)\n",
        "    Ypred = model(x.float())\n",
        "    Ypred.to(device)\n",
        "    loss = criterion(Ypred,y)\n",
        "    total_loss = total_loss + loss\n",
        "    Ypred_binary = torch.argmax(Ypred, keepdim= False, dim=1)\n",
        "    train_acc = train_acc + accuracy_score(y.cpu(),Ypred_binary.cpu())\n",
        "    optimizer.zero_grad()\n",
        "    loss.backward()\n",
        "    optimizer.step()\n",
        "\n",
        "  costs.append(total_loss)\n",
        "  print(\"Epoch No. = \"+ str(epoch), \"cost = \"+str(costs[epoch].item()))\n",
        "  print(\"Training Accuracy = \", train_acc/len(train_dl))\n",
        "  lr_scheduler.step(total_loss/len(train_dl))\n",
        "\n",
        "  model.eval()\n",
        "  with torch.no_grad():\n",
        "    cv_acc = 0\n",
        "    for x_val,y_val in cv_dl:\n",
        "      x_val.to(device)\n",
        "      y_val.to(device)\n",
        "      Ypred_val = model(x_val.float())\n",
        "      Ypred_val.to(device)\n",
        "      Ypred_val_binary = torch.argmax(Ypred_val, keepdim= False, dim=1)\n",
        "      cv_acc = cv_acc + accuracy_score(y_val.cpu(),Ypred_val_binary.cpu())\n",
        "    print(\"Validation Accuracy = \", cv_acc/len(cv_dl))\n",
        "\n",
        "plt.plot(costs)\n",
        "plt.ylabel(\"cost\")\n",
        "plt.xlabel(\"epoch\")\n",
        "plt.show()      "
      ],
      "execution_count": 0,
      "outputs": [
        {
          "output_type": "stream",
          "text": [
            "Epoch No. = 0 cost = 277.07891845703125\n",
            "Training Accuracy =  0.970441042047532\n",
            "Validation Accuracy =  0.984280303030303\n",
            "Epoch No. = 1 cost = 131.48568725585938\n",
            "Training Accuracy =  0.9851481566118221\n",
            "Validation Accuracy =  0.9876893939393939\n",
            "Epoch No. = 2 cost = 95.70906066894531\n",
            "Training Accuracy =  0.988933957952468\n",
            "Validation Accuracy =  0.990625\n",
            "Epoch No. = 3 cost = 79.04429626464844\n",
            "Training Accuracy =  0.9908535191956125\n",
            "Validation Accuracy =  0.9911931818181818\n",
            "Epoch No. = 4 cost = 66.60572814941406\n",
            "Training Accuracy =  0.9923046160877513\n",
            "Validation Accuracy =  0.9912405303030303\n",
            "Epoch No. = 5 cost = 57.052589416503906\n",
            "Training Accuracy =  0.9932034582571603\n",
            "Validation Accuracy =  0.9921875\n",
            "Epoch No. = 6 cost = 52.66319274902344\n",
            "Training Accuracy =  0.9936128884826325\n",
            "Validation Accuracy =  0.9914772727272727\n",
            "Epoch No. = 7 cost = 47.00619888305664\n",
            "Training Accuracy =  0.9943403412553322\n",
            "Validation Accuracy =  0.9920454545454546\n",
            "Epoch No. = 8 cost = 43.26169204711914\n",
            "Training Accuracy =  0.9948354661791591\n",
            "Validation Accuracy =  0.993465909090909\n",
            "Epoch No. = 9 cost = 37.439022064208984\n",
            "Training Accuracy =  0.9953458257160269\n",
            "Validation Accuracy =  0.9931818181818182\n",
            "Epoch No. = 10 cost = 34.94105911254883\n",
            "Training Accuracy =  0.9958180987202925\n",
            "Validation Accuracy =  0.9922348484848484\n",
            "Epoch No. = 11 cost = 34.05303192138672\n",
            "Training Accuracy =  0.99595521023766\n",
            "Validation Accuracy =  0.9922348484848484\n",
            "Epoch No. = 12 cost = 30.62653923034668\n",
            "Training Accuracy =  0.9962808500914077\n",
            "Validation Accuracy =  0.9923295454545454\n",
            "Epoch No. = 13 cost = 29.36821746826172\n",
            "Training Accuracy =  0.9964750914076782\n",
            "Validation Accuracy =  0.9919034090909091\n",
            "Epoch No. = 14 cost = 29.727460861206055\n",
            "Training Accuracy =  0.9964122486288848\n",
            "Validation Accuracy =  0.9917613636363637\n",
            "Epoch No. = 15 cost = 25.320934295654297\n",
            "Training Accuracy =  0.9970692413162706\n",
            "Validation Accuracy =  0.9913352272727273\n",
            "Epoch No. = 16 cost = 26.0743465423584\n",
            "Training Accuracy =  0.9967950182815356\n",
            "Validation Accuracy =  0.9914772727272727\n",
            "Epoch No. = 17 cost = 24.521568298339844\n",
            "Training Accuracy =  0.996966407678245\n",
            "Validation Accuracy =  0.9913352272727273\n",
            "Epoch No. = 18 cost = 23.351585388183594\n",
            "Training Accuracy =  0.9972006398537477\n",
            "Validation Accuracy =  0.9917613636363637\n",
            "Epoch No. = 19 cost = 22.704265594482422\n",
            "Training Accuracy =  0.9972863345521024\n",
            "Validation Accuracy =  0.9931818181818182\n",
            "Epoch No. = 20 cost = 21.683895111083984\n",
            "Training Accuracy =  0.9972006398537477\n",
            "Validation Accuracy =  0.9927556818181819\n",
            "Epoch No. = 21 cost = 20.364652633666992\n",
            "Training Accuracy =  0.9974462979890311\n",
            "Validation Accuracy =  0.9927556818181819\n",
            "Epoch No. = 22 cost = 20.989742279052734\n",
            "Training Accuracy =  0.9973491773308958\n",
            "Validation Accuracy =  0.9919034090909091\n",
            "Epoch No. = 23 cost = 19.853208541870117\n",
            "Training Accuracy =  0.9977547989031078\n",
            "Validation Accuracy =  0.9927556818181819\n",
            "Epoch No. = 24 cost = 20.335115432739258\n",
            "Training Accuracy =  0.997463436928702\n",
            "Validation Accuracy =  0.9924715909090909\n",
            "Epoch No. = 25 cost = 18.65033721923828\n",
            "Training Accuracy =  0.9977909811090799\n",
            "Validation Accuracy =  0.9921875\n",
            "Epoch No. = 26 cost = 17.242116928100586\n",
            "Training Accuracy =  0.9979147623400365\n",
            "Validation Accuracy =  0.9924715909090909\n",
            "Epoch No. = 27 cost = 19.53154945373535\n",
            "Training Accuracy =  0.997720521023766\n",
            "Validation Accuracy =  0.9926136363636363\n",
            "Epoch No. = 28 cost = 17.127288818359375\n",
            "Training Accuracy =  0.9977109993906156\n",
            "Validation Accuracy =  0.99375\n",
            "Epoch No. = 29 cost = 15.686300277709961\n",
            "Training Accuracy =  0.9980290219378428\n",
            "Validation Accuracy =  0.9930397727272727\n",
            "Epoch No. = 30 cost = 15.60556411743164\n",
            "Training Accuracy =  0.998051873857404\n",
            "Validation Accuracy =  0.9927556818181819\n",
            "Epoch No. = 31 cost = 17.94634437561035\n",
            "Training Accuracy =  0.9978347806215722\n",
            "Validation Accuracy =  0.9926136363636363\n",
            "Epoch No. = 32 cost = 15.471152305603027\n",
            "Training Accuracy =  0.9980347349177331\n",
            "Validation Accuracy =  0.9928977272727273\n",
            "Epoch No. = 33 cost = 16.12224578857422\n",
            "Training Accuracy =  0.9980747257769652\n",
            "Validation Accuracy =  0.9923295454545454\n",
            "Epoch No. = 34 cost = 16.408306121826172\n",
            "Training Accuracy =  0.997960466179159\n",
            "Epoch    35: reducing learning rate of group 0 to 1.0000e-04.\n",
            "Validation Accuracy =  0.9931818181818182\n",
            "Epoch No. = 35 cost = 14.700404167175293\n",
            "Training Accuracy =  0.9980804387568556\n",
            "Validation Accuracy =  0.993465909090909\n",
            "Epoch No. = 36 cost = 9.729141235351562\n",
            "Training Accuracy =  0.998731718464351\n",
            "Validation Accuracy =  0.9940340909090909\n",
            "Epoch No. = 37 cost = 10.05705451965332\n",
            "Training Accuracy =  0.9987774223034734\n",
            "Validation Accuracy =  0.9931818181818182\n",
            "Epoch No. = 38 cost = 8.453700065612793\n",
            "Training Accuracy =  0.9989716636197441\n",
            "Validation Accuracy =  0.993465909090909\n",
            "Epoch No. = 39 cost = 7.899591445922852\n",
            "Training Accuracy =  0.9989545246800732\n",
            "Validation Accuracy =  0.9931818181818182\n",
            "Epoch No. = 40 cost = 6.810379505157471\n",
            "Training Accuracy =  0.9991144881170019\n",
            "Validation Accuracy =  0.993465909090909\n",
            "Epoch No. = 41 cost = 7.0686259269714355\n",
            "Training Accuracy =  0.9991316270566728\n",
            "Validation Accuracy =  0.9931818181818182\n",
            "Epoch No. = 42 cost = 5.83986234664917\n",
            "Training Accuracy =  0.999320155393053\n",
            "Validation Accuracy =  0.9931818181818182\n",
            "Epoch No. = 43 cost = 6.199947834014893\n",
            "Training Accuracy =  0.9991773308957953\n",
            "Validation Accuracy =  0.9933238636363636\n",
            "Epoch No. = 44 cost = 6.088099479675293\n",
            "Training Accuracy =  0.999245886654479\n",
            "Epoch    45: reducing learning rate of group 0 to 1.0000e-05.\n",
            "Validation Accuracy =  0.993465909090909\n",
            "Epoch No. = 45 cost = 5.711660861968994\n",
            "Training Accuracy =  0.9993430073126143\n",
            "Validation Accuracy =  0.9931818181818182\n",
            "Epoch No. = 46 cost = 5.562772750854492\n",
            "Training Accuracy =  0.9992744515539306\n",
            "Validation Accuracy =  0.99375\n",
            "Epoch No. = 47 cost = 5.429196834564209\n",
            "Training Accuracy =  0.9993601462522852\n",
            "Validation Accuracy =  0.9933238636363636\n",
            "Epoch No. = 48 cost = 4.995802402496338\n",
            "Training Accuracy =  0.9994344149908593\n",
            "Validation Accuracy =  0.9936079545454546\n",
            "Epoch No. = 49 cost = 5.1750006675720215\n",
            "Training Accuracy =  0.999303016453382\n",
            "Validation Accuracy =  0.9938920454545455\n",
            "Epoch No. = 50 cost = 5.2932448387146\n",
            "Training Accuracy =  0.9993791895185863\n",
            "Epoch    51: reducing learning rate of group 0 to 1.0000e-06.\n",
            "Validation Accuracy =  0.9940340909090909\n",
            "Epoch No. = 51 cost = 5.944145202636719\n",
            "Training Accuracy =  0.9992687385740402\n",
            "Validation Accuracy =  0.9932291666666666\n",
            "Epoch No. = 52 cost = 5.955611228942871\n",
            "Training Accuracy =  0.9992801645338208\n",
            "Epoch    53: reducing learning rate of group 0 to 1.0000e-07.\n",
            "Validation Accuracy =  0.9933238636363636\n",
            "Epoch No. = 53 cost = 5.4959516525268555\n",
            "Training Accuracy =  0.999337294332724\n",
            "Validation Accuracy =  0.9936079545454546\n",
            "Epoch No. = 54 cost = 6.07937479019165\n",
            "Training Accuracy =  0.9992915904936015\n",
            "Epoch    55: reducing learning rate of group 0 to 1.0000e-08.\n",
            "Validation Accuracy =  0.9933238636363636\n",
            "Epoch No. = 55 cost = 5.6374592781066895\n",
            "Training Accuracy =  0.9993144424131627\n",
            "Validation Accuracy =  0.993465909090909\n",
            "Epoch No. = 56 cost = 5.6402387619018555\n",
            "Training Accuracy =  0.9992973034734918\n",
            "Epoch    57: reducing learning rate of group 0 to 1.0000e-09.\n",
            "Validation Accuracy =  0.9931818181818182\n",
            "Epoch No. = 57 cost = 5.422754287719727\n",
            "Training Accuracy =  0.9993601462522852\n",
            "Validation Accuracy =  0.9936079545454546\n",
            "Epoch No. = 58 cost = 5.845541954040527\n",
            "Training Accuracy =  0.9992915904936015\n",
            "Validation Accuracy =  0.9928977272727273\n",
            "Epoch No. = 59 cost = 5.175505638122559\n",
            "Training Accuracy =  0.9994001371115173\n",
            "Validation Accuracy =  0.9938920454545455\n",
            "Epoch No. = 60 cost = 5.166006088256836\n",
            "Training Accuracy =  0.9993544332723949\n",
            "Validation Accuracy =  0.9930871212121212\n",
            "Epoch No. = 61 cost = 5.315698623657227\n",
            "Training Accuracy =  0.9993887111517368\n",
            "Validation Accuracy =  0.99375\n",
            "Epoch No. = 62 cost = 5.127016544342041\n",
            "Training Accuracy =  0.9993772851919561\n",
            "Validation Accuracy =  0.9938920454545455\n",
            "Epoch No. = 63 cost = 5.258730888366699\n",
            "Training Accuracy =  0.9993087294332724\n",
            "Validation Accuracy =  0.9928977272727273\n",
            "Epoch No. = 64 cost = 6.029065132141113\n",
            "Training Accuracy =  0.9992915904936015\n",
            "Validation Accuracy =  0.9936079545454546\n",
            "Epoch No. = 65 cost = 5.891030788421631\n",
            "Training Accuracy =  0.9992858775137111\n",
            "Validation Accuracy =  0.9931818181818182\n",
            "Epoch No. = 66 cost = 5.293321132659912\n",
            "Training Accuracy =  0.9994058500914077\n",
            "Validation Accuracy =  0.9933238636363636\n",
            "Epoch No. = 67 cost = 5.271448612213135\n",
            "Training Accuracy =  0.999337294332724\n",
            "Validation Accuracy =  0.9938920454545455\n",
            "Epoch No. = 68 cost = 6.0438055992126465\n",
            "Training Accuracy =  0.9992801645338208\n",
            "Validation Accuracy =  0.9933238636363636\n",
            "Epoch No. = 69 cost = 5.857475757598877\n",
            "Training Accuracy =  0.9992687385740402\n",
            "Validation Accuracy =  0.9930871212121212\n",
            "Epoch No. = 70 cost = 5.688015937805176\n",
            "Training Accuracy =  0.9993315813528336\n",
            "Validation Accuracy =  0.99375\n",
            "Epoch No. = 71 cost = 5.875185966491699\n",
            "Training Accuracy =  0.9992973034734918\n",
            "Validation Accuracy =  0.993465909090909\n",
            "Epoch No. = 72 cost = 5.417628765106201\n",
            "Training Accuracy =  0.999337294332724\n",
            "Validation Accuracy =  0.9936079545454546\n",
            "Epoch No. = 73 cost = 5.226933002471924\n",
            "Training Accuracy =  0.9993887111517368\n",
            "Validation Accuracy =  0.993465909090909\n",
            "Epoch No. = 74 cost = 5.0837483406066895\n",
            "Training Accuracy =  0.9993258683729433\n",
            "Validation Accuracy =  0.9933238636363636\n"
          ],
          "name": "stdout"
        },
        {
          "output_type": "display_data",
          "data": {
            "image/png": "[encoded data removed]",
            "text/plain": [
              "<Figure size 432x288 with 1 Axes>"
            ]
          },
          "metadata": {
            "tags": [],
            "needs_background": "light"
          }
        }
      ]
    },
    {
      "cell_type": "code",
      "metadata": {
        "id": "nPk9nLGw8mjA",
        "colab_type": "code",
        "outputId": "ade67b7b-b6f0-4b2b-e2b1-d8880f7228f3",
        "colab": {
          "base_uri": "https://localhost:8080/",
          "height": 52
        }
      },
      "source": [
        "x_test = x_test/255.0\n",
        "x_test = x_test.reshape(-1,1,28,28)\n",
        "print(x_test.shape)\n",
        "x_test = torch.from_numpy(x_test).to(device)\n",
        "\n",
        "model.eval()\n",
        "with torch.no_grad():\n",
        "  Ypred_test = model(x_test.float()).cpu()\n",
        "  Ypred_test_binary = torch.argmax(Ypred_test, keepdim= False, dim=1).cpu().numpy()\n",
        "  print(Ypred_test_binary.shape)"
      ],
      "execution_count": 0,
      "outputs": [
        {
          "output_type": "stream",
          "text": [
            "(28000, 1, 28, 28)\n",
            "torch.Size([28000])\n"
          ],
          "name": "stdout"
        }
      ]
    },
    {
      "cell_type": "code",
      "metadata": {
        "id": "CJpMW6CEDoFF",
        "colab_type": "code",
        "outputId": "0ae862ee-7bbc-4066-b6b4-194c6a974f2b",
        "colab": {
          "base_uri": "https://localhost:8080/",
          "height": 266
        }
      },
      "source": [
        "ImageId = np.arange(1,28001)\n",
        "data = {\"ImageId\":ImageId,\"Label\":Ypred_test_binary}\n",
        "test_predictions = pd.DataFrame(data)\n",
        "test_predictions.to_csv('Test_Predict.csv',index=False)\n",
        "print(test_predictions)"
      ],
      "execution_count": 0,
      "outputs": [
        {
          "output_type": "stream",
          "text": [
            "       ImageId  Label\n",
            "0            1      2\n",
            "1            2      0\n",
            "2            3      9\n",
            "3            4      0\n",
            "4            5      3\n",
            "...        ...    ...\n",
            "27995    27996      9\n",
            "27996    27997      7\n",
            "27997    27998      3\n",
            "27998    27999      9\n",
            "27999    28000      2\n",
            "\n",
            "[28000 rows x 2 columns]\n"
          ],
          "name": "stdout"
        }
      ]
    }
  ]
}